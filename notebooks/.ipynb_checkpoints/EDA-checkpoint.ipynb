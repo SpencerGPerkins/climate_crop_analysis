{
 "cells": [
  {
   "cell_type": "markdown",
   "id": "e9f434cf-ef15-4796-aef0-9f33ad9a403a",
   "metadata": {},
   "source": [
    "# Exploratory Data Analysis: Climate Change Impact on Agriculture Dataset (Kaggle)\n",
    "### https://www.kaggle.com/datasets/waqi786/climate-change-impact-on-agriculture\n",
    "\n",
    "### This is primarily for personal study and refreshing things that I learned in courses related to data science in the past. However, I believe climate change to be an important topic and worth researching."
   ]
  },
  {
   "cell_type": "code",
   "execution_count": 30,
   "id": "b9c57d0b-fe3f-48ce-ba18-e489b28c7f1f",
   "metadata": {},
   "outputs": [],
   "source": [
    "import pandas as pd\n",
    "import matplotlib.pyplot as plt\n",
    "import seaborn as sns"
   ]
  },
  {
   "cell_type": "code",
   "execution_count": 6,
   "id": "08275f9b-ab76-4ca8-8dd1-7198ba3c053e",
   "metadata": {},
   "outputs": [
    {
     "data": {
      "text/html": [
       "<div>\n",
       "<style scoped>\n",
       "    .dataframe tbody tr th:only-of-type {\n",
       "        vertical-align: middle;\n",
       "    }\n",
       "\n",
       "    .dataframe tbody tr th {\n",
       "        vertical-align: top;\n",
       "    }\n",
       "\n",
       "    .dataframe thead th {\n",
       "        text-align: right;\n",
       "    }\n",
       "</style>\n",
       "<table border=\"1\" class=\"dataframe\">\n",
       "  <thead>\n",
       "    <tr style=\"text-align: right;\">\n",
       "      <th></th>\n",
       "      <th>Year</th>\n",
       "      <th>Country</th>\n",
       "      <th>Region</th>\n",
       "      <th>Crop_Type</th>\n",
       "      <th>Average_Temperature_C</th>\n",
       "      <th>Total_Precipitation_mm</th>\n",
       "      <th>CO2_Emissions_MT</th>\n",
       "      <th>Crop_Yield_MT_per_HA</th>\n",
       "      <th>Extreme_Weather_Events</th>\n",
       "      <th>Irrigation_Access_%</th>\n",
       "      <th>Pesticide_Use_KG_per_HA</th>\n",
       "      <th>Fertilizer_Use_KG_per_HA</th>\n",
       "      <th>Soil_Health_Index</th>\n",
       "      <th>Adaptation_Strategies</th>\n",
       "      <th>Economic_Impact_Million_USD</th>\n",
       "    </tr>\n",
       "  </thead>\n",
       "  <tbody>\n",
       "    <tr>\n",
       "      <th>0</th>\n",
       "      <td>2001</td>\n",
       "      <td>India</td>\n",
       "      <td>West Bengal</td>\n",
       "      <td>Corn</td>\n",
       "      <td>1.55</td>\n",
       "      <td>447.06</td>\n",
       "      <td>15.22</td>\n",
       "      <td>1.737</td>\n",
       "      <td>8</td>\n",
       "      <td>14.54</td>\n",
       "      <td>10.08</td>\n",
       "      <td>14.78</td>\n",
       "      <td>83.25</td>\n",
       "      <td>Water Management</td>\n",
       "      <td>808.13</td>\n",
       "    </tr>\n",
       "    <tr>\n",
       "      <th>1</th>\n",
       "      <td>2024</td>\n",
       "      <td>China</td>\n",
       "      <td>North</td>\n",
       "      <td>Corn</td>\n",
       "      <td>3.23</td>\n",
       "      <td>2913.57</td>\n",
       "      <td>29.82</td>\n",
       "      <td>1.737</td>\n",
       "      <td>8</td>\n",
       "      <td>11.05</td>\n",
       "      <td>33.06</td>\n",
       "      <td>23.25</td>\n",
       "      <td>54.02</td>\n",
       "      <td>Crop Rotation</td>\n",
       "      <td>616.22</td>\n",
       "    </tr>\n",
       "    <tr>\n",
       "      <th>2</th>\n",
       "      <td>2001</td>\n",
       "      <td>France</td>\n",
       "      <td>Ile-de-France</td>\n",
       "      <td>Wheat</td>\n",
       "      <td>21.11</td>\n",
       "      <td>1301.74</td>\n",
       "      <td>25.75</td>\n",
       "      <td>1.719</td>\n",
       "      <td>5</td>\n",
       "      <td>84.42</td>\n",
       "      <td>27.41</td>\n",
       "      <td>65.53</td>\n",
       "      <td>67.78</td>\n",
       "      <td>Water Management</td>\n",
       "      <td>796.96</td>\n",
       "    </tr>\n",
       "    <tr>\n",
       "      <th>3</th>\n",
       "      <td>2001</td>\n",
       "      <td>Canada</td>\n",
       "      <td>Prairies</td>\n",
       "      <td>Coffee</td>\n",
       "      <td>27.85</td>\n",
       "      <td>1154.36</td>\n",
       "      <td>13.91</td>\n",
       "      <td>3.890</td>\n",
       "      <td>5</td>\n",
       "      <td>94.06</td>\n",
       "      <td>14.38</td>\n",
       "      <td>87.58</td>\n",
       "      <td>91.39</td>\n",
       "      <td>No Adaptation</td>\n",
       "      <td>790.32</td>\n",
       "    </tr>\n",
       "    <tr>\n",
       "      <th>4</th>\n",
       "      <td>1998</td>\n",
       "      <td>India</td>\n",
       "      <td>Tamil Nadu</td>\n",
       "      <td>Sugarcane</td>\n",
       "      <td>2.19</td>\n",
       "      <td>1627.48</td>\n",
       "      <td>11.81</td>\n",
       "      <td>1.080</td>\n",
       "      <td>9</td>\n",
       "      <td>95.75</td>\n",
       "      <td>44.35</td>\n",
       "      <td>88.08</td>\n",
       "      <td>49.61</td>\n",
       "      <td>Crop Rotation</td>\n",
       "      <td>401.72</td>\n",
       "    </tr>\n",
       "  </tbody>\n",
       "</table>\n",
       "</div>"
      ],
      "text/plain": [
       "   Year Country         Region  Crop_Type  Average_Temperature_C  \\\n",
       "0  2001   India    West Bengal       Corn                   1.55   \n",
       "1  2024   China          North       Corn                   3.23   \n",
       "2  2001  France  Ile-de-France      Wheat                  21.11   \n",
       "3  2001  Canada       Prairies     Coffee                  27.85   \n",
       "4  1998   India     Tamil Nadu  Sugarcane                   2.19   \n",
       "\n",
       "   Total_Precipitation_mm  CO2_Emissions_MT  Crop_Yield_MT_per_HA  \\\n",
       "0                  447.06             15.22                 1.737   \n",
       "1                 2913.57             29.82                 1.737   \n",
       "2                 1301.74             25.75                 1.719   \n",
       "3                 1154.36             13.91                 3.890   \n",
       "4                 1627.48             11.81                 1.080   \n",
       "\n",
       "   Extreme_Weather_Events  Irrigation_Access_%  Pesticide_Use_KG_per_HA  \\\n",
       "0                       8                14.54                    10.08   \n",
       "1                       8                11.05                    33.06   \n",
       "2                       5                84.42                    27.41   \n",
       "3                       5                94.06                    14.38   \n",
       "4                       9                95.75                    44.35   \n",
       "\n",
       "   Fertilizer_Use_KG_per_HA  Soil_Health_Index Adaptation_Strategies  \\\n",
       "0                     14.78              83.25      Water Management   \n",
       "1                     23.25              54.02         Crop Rotation   \n",
       "2                     65.53              67.78      Water Management   \n",
       "3                     87.58              91.39         No Adaptation   \n",
       "4                     88.08              49.61         Crop Rotation   \n",
       "\n",
       "   Economic_Impact_Million_USD  \n",
       "0                       808.13  \n",
       "1                       616.22  \n",
       "2                       796.96  \n",
       "3                       790.32  \n",
       "4                       401.72  "
      ]
     },
     "execution_count": 6,
     "metadata": {},
     "output_type": "execute_result"
    }
   ],
   "source": [
    "# Load dataset \n",
    "df = pd.read_csv(\"../data/climate_change_impact_on_agriculture_2024.csv\")\n",
    "df.head()"
   ]
  },
  {
   "cell_type": "code",
   "execution_count": 9,
   "id": "62c3f06f-2d6e-43d0-b46a-a0d61a55744b",
   "metadata": {},
   "outputs": [
    {
     "name": "stdout",
     "output_type": "stream",
     "text": [
      "10000\n",
      "<class 'pandas.core.frame.DataFrame'>\n",
      "RangeIndex: 10000 entries, 0 to 9999\n",
      "Data columns (total 15 columns):\n",
      " #   Column                       Non-Null Count  Dtype  \n",
      "---  ------                       --------------  -----  \n",
      " 0   Year                         10000 non-null  int64  \n",
      " 1   Country                      10000 non-null  object \n",
      " 2   Region                       10000 non-null  object \n",
      " 3   Crop_Type                    10000 non-null  object \n",
      " 4   Average_Temperature_C        10000 non-null  float64\n",
      " 5   Total_Precipitation_mm       10000 non-null  float64\n",
      " 6   CO2_Emissions_MT             10000 non-null  float64\n",
      " 7   Crop_Yield_MT_per_HA         10000 non-null  float64\n",
      " 8   Extreme_Weather_Events       10000 non-null  int64  \n",
      " 9   Irrigation_Access_%          10000 non-null  float64\n",
      " 10  Pesticide_Use_KG_per_HA      10000 non-null  float64\n",
      " 11  Fertilizer_Use_KG_per_HA     10000 non-null  float64\n",
      " 12  Soil_Health_Index            10000 non-null  float64\n",
      " 13  Adaptation_Strategies        10000 non-null  object \n",
      " 14  Economic_Impact_Million_USD  10000 non-null  float64\n",
      "dtypes: float64(9), int64(2), object(4)\n",
      "memory usage: 1.1+ MB\n"
     ]
    }
   ],
   "source": [
    "# Check for null values\n",
    "print(len(df))\n",
    "df.info()"
   ]
  },
  {
   "cell_type": "markdown",
   "id": "183c37fb-235e-4f46-bfa9-3e9e15be7cbc",
   "metadata": {},
   "source": [
    "## Column Explanations\n",
    "### The dataset looks to be complete, with each column containing no null values. We have mixture of integers, floats, and objects. <br>\n",
    "1. **Year**: The year when the data was collected. It is stored as an integer.\n",
    "2. **Country**: The name of the country where the data was collected. This is stored as text.\n",
    "3. **Region**: The specific region within the country where the data was gathered. Also stored as text.\n",
    "4. **Crop_Type**: The type of crop being grown in the region (e.g., wheat, corn, rice). This is a categorical field.\n",
    "5. **Average_Temperature_C**: The average temperature for the region during the growing season, measured in degrees Celsius. Stored as a floating-point number.\n",
    "6. **Total_Precipitation_mm**: The total amount of rainfall or precipitation during the growing season, measured in millimeters. Stored as a floating-point number.\n",
    "7. **CO2_Emissions_MT**: The amount of CO2 emissions from the region during the specified year, measured in metric tons (MT). This field indicates how much CO2 was released into the atmosphere.\n",
    "8. **Crop_Yield_MT_per_HA**: The yield or production of the crop in metric tons per hectare (MT/HA). It measures how much crop is produced per unit of land.\n",
    "9. **Extreme_Weather_Events**: The number of extreme weather events (like floods, droughts, etc.) that occurred in the region during the year. This is an integer count.\n",
    "10. **Irrigation_Access_%**: The percentage of cropland that has access to irrigation. Stored as a floating-point number.\n",
    "11. **Pesticide_Use_KG_per_HA**: The amount of pesticide applied to the land, measured in kilograms per hectare (KG/HA). Indicates how much pesticide is used on the crops.\n",
    "12. **Fertilizer_Use_KG_per_HA**: The amount of fertilizer used, measured in kilograms per hectare (KG/HA).\n",
    "13. **Soil_Health_Index**: A numerical index indicating the health or quality of the soil in the region, often based on factors like nutrient content, pH, and organic matter. Stored as a floating-point number.\n",
    "14. **Adaptation_Strategies**: The strategies employed by farmers or the region to adapt to environmental challenges, like climate change or soil degradation. This is a categorical field (text).\n",
    "15. **Economic_Impact_Million_USD**: The economic impact of farming in the region, measured in millions of US dollars. This could reflect profits, losses, or economic damages due to factors like extreme weather or low crop yield.\n",
    "<br>\n",
    "<br>\n",
    "### First, I'll take a look at some of the columns individually to get a better idea of the diversity of the data collected."
   ]
  },
  {
   "cell_type": "code",
   "execution_count": 26,
   "id": "9bc56146-1313-4dc1-9994-07b372330dbc",
   "metadata": {},
   "outputs": [
    {
     "name": "stdout",
     "output_type": "stream",
     "text": [
      "Data collected over 34 years from 1990 to 2024\n"
     ]
    }
   ],
   "source": [
    "# Collection period ('Year') column\n",
    "start_year = min(df['Year'])\n",
    "end_year = max(df['Year'])\n",
    "collection_total = end_year - start_year\n",
    "print(f'Data collected over {collection_total} years from {start_year} to {end_year}')"
   ]
  },
  {
   "cell_type": "code",
   "execution_count": 27,
   "id": "f083e0b7-1ec7-4603-a543-349fdb76836c",
   "metadata": {},
   "outputs": [
    {
     "data": {
      "text/plain": [
       "Country\n",
       "Australia    1032\n",
       "USA          1032\n",
       "China        1031\n",
       "Nigeria      1029\n",
       "India        1025\n",
       "Canada        984\n",
       "Argentina     984\n",
       "France        978\n",
       "Russia        961\n",
       "Brazil        944\n",
       "Name: count, dtype: int64"
      ]
     },
     "execution_count": 27,
     "metadata": {},
     "output_type": "execute_result"
    }
   ],
   "source": [
    "# Country representation\n",
    "df['Country'].value_counts()"
   ]
  },
  {
   "cell_type": "code",
   "execution_count": 28,
   "id": "cdc48c12-3afb-4c78-8662-1ed5c28a4203",
   "metadata": {
    "scrolled": true
   },
   "outputs": [
    {
     "data": {
      "text/plain": [
       "Crop_Type\n",
       "Wheat         1047\n",
       "Cotton        1044\n",
       "Vegetables    1036\n",
       "Corn          1022\n",
       "Rice          1022\n",
       "Sugarcane      995\n",
       "Fruits         979\n",
       "Soybeans       958\n",
       "Barley         952\n",
       "Coffee         945\n",
       "Name: count, dtype: int64"
      ]
     },
     "execution_count": 28,
     "metadata": {},
     "output_type": "execute_result"
    }
   ],
   "source": [
    "df['Crop_Type'].value_counts()"
   ]
  },
  {
   "cell_type": "code",
   "execution_count": null,
   "id": "80f8ce2f-0eb3-485a-92e7-b41c20e5a3e4",
   "metadata": {},
   "outputs": [],
   "source": []
  }
 ],
 "metadata": {
  "kernelspec": {
   "display_name": "Python 3 (ipykernel)",
   "language": "python",
   "name": "python3"
  },
  "language_info": {
   "codemirror_mode": {
    "name": "ipython",
    "version": 3
   },
   "file_extension": ".py",
   "mimetype": "text/x-python",
   "name": "python",
   "nbconvert_exporter": "python",
   "pygments_lexer": "ipython3",
   "version": "3.10.12"
  }
 },
 "nbformat": 4,
 "nbformat_minor": 5
}
